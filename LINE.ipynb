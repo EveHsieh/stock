{
 "cells": [
  {
   "cell_type": "code",
   "execution_count": 2,
   "metadata": {},
   "outputs": [
    {
     "ename": "SyntaxError",
     "evalue": "invalid syntax (<ipython-input-2-fdc6ef91b155>, line 1)",
     "output_type": "error",
     "traceback": [
      "\u001b[0;36m  File \u001b[0;32m\"<ipython-input-2-fdc6ef91b155>\"\u001b[0;36m, line \u001b[0;32m1\u001b[0m\n\u001b[0;31m    export LINE_CHANNEL_SECRET=2295f922abdf9d424c10b92477e0aa2a\u001b[0m\n\u001b[0m                             ^\u001b[0m\n\u001b[0;31mSyntaxError\u001b[0m\u001b[0;31m:\u001b[0m invalid syntax\n"
     ]
    }
   ],
   "source": [
    "$ export LINE_CHANNEL_SECRET=2295f922abdf9d424c10b92477e0aa2a\n",
    "$ export LINE_CHANNEL_ACCESS_TOKEN=wJXS0LkeVqsCASpZ7PHprjODsaX1jyTFc0OXKk3BMPfydSlBb1ARzPJXVU9Y65IfPLpzD96uXqR1mxilB6zg75Wspph2nQ9UA7A71tE+YfqeqnFNk/82VfgzH5efgPXLIIAWDR1SwTHFtx6mW0WAPAdB04t89/1O/w1cDnyilFU=\n",
    "\n",
    "!pip install -r requirements.txt"
   ]
  },
  {
   "cell_type": "code",
   "execution_count": 5,
   "metadata": {},
   "outputs": [
    {
     "name": "stdout",
     "output_type": "stream",
     "text": [
      "Collecting pymongo\n",
      "  Downloading pymongo-3.11.4-cp37-cp37m-macosx_10_6_intel.whl (414 kB)\n",
      "\u001b[K     |████████████████████████████████| 414 kB 1.4 MB/s eta 0:00:01\n",
      "\u001b[?25hInstalling collected packages: pymongo\n",
      "Successfully installed pymongo-3.11.4\n"
     ]
    }
   ],
   "source": [
    "!pip install pymongo"
   ]
  },
  {
   "cell_type": "code",
   "execution_count": 7,
   "metadata": {},
   "outputs": [
    {
     "name": "stdout",
     "output_type": "stream",
     "text": [
      "Collecting twstock\n",
      "  Downloading twstock-1.3.1-py3-none-any.whl (1.9 MB)\n",
      "\u001b[K     |████████████████████████████████| 1.9 MB 1.4 MB/s eta 0:00:01\n",
      "\u001b[?25hRequirement already satisfied: requests in /Volumes/EVE/opt/anaconda3/lib/python3.7/site-packages (from twstock) (2.22.0)\n",
      "Requirement already satisfied: idna<2.9,>=2.5 in /Volumes/EVE/opt/anaconda3/lib/python3.7/site-packages (from requests->twstock) (2.8)\n",
      "Requirement already satisfied: chardet<3.1.0,>=3.0.2 in /Volumes/EVE/opt/anaconda3/lib/python3.7/site-packages (from requests->twstock) (3.0.4)\n",
      "Requirement already satisfied: urllib3!=1.25.0,!=1.25.1,<1.26,>=1.21.1 in /Volumes/EVE/opt/anaconda3/lib/python3.7/site-packages (from requests->twstock) (1.25.8)\n",
      "Requirement already satisfied: certifi>=2017.4.17 in /Volumes/EVE/opt/anaconda3/lib/python3.7/site-packages (from requests->twstock) (2019.11.28)\n",
      "Installing collected packages: twstock\n",
      "Successfully installed twstock-1.3.1\n"
     ]
    }
   ],
   "source": [
    "!pip install twstock"
   ]
  },
  {
   "cell_type": "code",
   "execution_count": 9,
   "metadata": {},
   "outputs": [
    {
     "name": "stdout",
     "output_type": "stream",
     "text": [
      "Collecting imgurpython\n",
      "  Downloading imgurpython-1.1.7.tar.gz (8.4 kB)\n",
      "Requirement already satisfied: requests in /Volumes/EVE/opt/anaconda3/lib/python3.7/site-packages (from imgurpython) (2.22.0)\n",
      "Requirement already satisfied: certifi>=2017.4.17 in /Volumes/EVE/opt/anaconda3/lib/python3.7/site-packages (from requests->imgurpython) (2019.11.28)\n",
      "Requirement already satisfied: chardet<3.1.0,>=3.0.2 in /Volumes/EVE/opt/anaconda3/lib/python3.7/site-packages (from requests->imgurpython) (3.0.4)\n",
      "Requirement already satisfied: urllib3!=1.25.0,!=1.25.1,<1.26,>=1.21.1 in /Volumes/EVE/opt/anaconda3/lib/python3.7/site-packages (from requests->imgurpython) (1.25.8)\n",
      "Requirement already satisfied: idna<2.9,>=2.5 in /Volumes/EVE/opt/anaconda3/lib/python3.7/site-packages (from requests->imgurpython) (2.8)\n",
      "Building wheels for collected packages: imgurpython\n",
      "  Building wheel for imgurpython (setup.py) ... \u001b[?25ldone\n",
      "\u001b[?25h  Created wheel for imgurpython: filename=imgurpython-1.1.7-py3-none-any.whl size=12570 sha256=f636aa101ce81d4654717f327b56f26cea30b844628f4d88d9c6772008492002\n",
      "  Stored in directory: /Users/yixie/Library/Caches/pip/wheels/9b/fd/79/5a06e57d74315305af6d85ecc402a96036edf7c4e1426c7626\n",
      "Successfully built imgurpython\n",
      "Installing collected packages: imgurpython\n",
      "Successfully installed imgurpython-1.1.7\n"
     ]
    }
   ],
   "source": [
    "!pip install imgurpython "
   ]
  },
  {
   "cell_type": "code",
   "execution_count": 12,
   "metadata": {},
   "outputs": [
    {
     "name": "stdout",
     "output_type": "stream",
     "text": [
      "Collecting line-bot-sdk\n",
      "  Downloading line_bot_sdk-1.19.0-py2.py3-none-any.whl (68 kB)\n",
      "\u001b[K     |████████████████████████████████| 68 kB 271 kB/s eta 0:00:01\n",
      "\u001b[?25hRequirement already satisfied: requests>=2.0 in /Volumes/EVE/opt/anaconda3/lib/python3.7/site-packages (from line-bot-sdk) (2.22.0)\n",
      "Requirement already satisfied: future in /Volumes/EVE/opt/anaconda3/lib/python3.7/site-packages (from line-bot-sdk) (0.18.2)\n",
      "Requirement already satisfied: urllib3!=1.25.0,!=1.25.1,<1.26,>=1.21.1 in /Volumes/EVE/opt/anaconda3/lib/python3.7/site-packages (from requests>=2.0->line-bot-sdk) (1.25.8)\n",
      "Requirement already satisfied: certifi>=2017.4.17 in /Volumes/EVE/opt/anaconda3/lib/python3.7/site-packages (from requests>=2.0->line-bot-sdk) (2019.11.28)\n",
      "Requirement already satisfied: idna<2.9,>=2.5 in /Volumes/EVE/opt/anaconda3/lib/python3.7/site-packages (from requests>=2.0->line-bot-sdk) (2.8)\n",
      "Requirement already satisfied: chardet<3.1.0,>=3.0.2 in /Volumes/EVE/opt/anaconda3/lib/python3.7/site-packages (from requests>=2.0->line-bot-sdk) (3.0.4)\n",
      "Installing collected packages: line-bot-sdk\n",
      "Successfully installed line-bot-sdk-1.19.0\n"
     ]
    }
   ],
   "source": [
    "!pip install line-bot-sdk"
   ]
  },
  {
   "cell_type": "code",
   "execution_count": null,
   "metadata": {},
   "outputs": [
    {
     "name": "stdout",
     "output_type": "stream",
     "text": [
      " * Serving Flask app \"__main__\" (lazy loading)\n",
      " * Environment: production\n",
      "   WARNING: This is a development server. Do not use it in a production deployment.\n",
      "   Use a production WSGI server instead.\n",
      " * Debug mode: off\n"
     ]
    },
    {
     "name": "stderr",
     "output_type": "stream",
     "text": [
      " * Running on http://127.0.0.1:5000/ (Press CTRL+C to quit)\n",
      "127.0.0.1 - - [14/May/2021 16:15:04] \"\u001b[37mGET / HTTP/1.1\u001b[0m\" 200 -\n",
      "127.0.0.1 - - [14/May/2021 16:15:05] \"\u001b[33mGET /favicon.ico HTTP/1.1\u001b[0m\" 404 -\n"
     ]
    }
   ],
   "source": [
    "\n",
    "# -*- coding: utf-8 -*-\n",
    "\n",
    "\n",
    "from __future__ import unicode_literals\n",
    "\n",
    "import random\n",
    "import time\n",
    "from datetime import timedelta, datetime\n",
    "from pymongo import MongoClient\n",
    "\n",
    "#ref: http://twstock.readthedocs.io/zh_TW/latest/quickstart.html#id2\n",
    "import twstock\n",
    "\n",
    "import matplotlib\n",
    "matplotlib.use('Agg') # ref: https://matplotlib.org/faq/howto_faq.html\n",
    "import matplotlib.pyplot as plt\n",
    "import pandas as pd\n",
    "\n",
    "from imgurpython import ImgurClient\n",
    "\n",
    "from flask import Flask, request, abort\n",
    "from linebot import (\n",
    "    LineBotApi, WebhookParser\n",
    ")\n",
    "from linebot.exceptions import (\n",
    "    InvalidSignatureError\n",
    ")\n",
    "from linebot.models import *\n",
    "\n",
    "app = Flask(__name__)\n",
    "\n",
    "\n",
    "channel_secret_8 = '2295f922abdf9d424c10b92477e0aa2a'\n",
    "channel_access_token_8 = 'wJXS0LkeVqsCASpZ7PHprjODsaX1jyTFc0OXKk3BMPfydSlBb1ARzPJXVU9Y65IfPLpzD96uXqR1mxilB6zg75Wspph2nQ9UA7A71tE+YfqeqnFNk/82VfgzH5efgPXLIIAWDR1SwTHFtx6mW0WAPAdB04t89/1O/w1cDnyilFU='\n",
    "line_bot_api_8 = LineBotApi(channel_access_token_8)\n",
    "parser_8 = WebhookParser(channel_secret_8)\n",
    "\n",
    "\n",
    "#===================================================\n",
    "#   stock bot\n",
    "#===================================================\n",
    "@app.route(\"/callback_yangbot8\", methods=['POST'])\n",
    "def callback_yangbot8():\n",
    "    signature = request.headers['X-Line-Signature']\n",
    "\n",
    "    # get request body as text\n",
    "    body = request.get_data(as_text=True)\n",
    "    app.logger.info(\"Request body: \" + body)\n",
    "\n",
    "    # parse webhook body\n",
    "    try:\n",
    "        events = parser_8.parse(body, signature)\n",
    "    except InvalidSignatureError:\n",
    "        abort(400)\n",
    "\n",
    "    # if event is MessageEvent and message is TextMessage, then echo text\n",
    "    for event in events:\n",
    "        if not isinstance(event, MessageEvent):\n",
    "            continue\n",
    "        if not isinstance(event.message, TextMessage):\n",
    "            continue\n",
    "\n",
    "        text=event.message.text\n",
    "        #userId = event['source']['userId']\n",
    "        if(text.lower()=='me'):\n",
    "            content = str(event.source.user_id)\n",
    "\n",
    "            line_bot_api_8.reply_message(\n",
    "                event.reply_token,\n",
    "                TextSendMessage(text=content)\n",
    "            )\n",
    "        elif(text.lower() == 'profile'):\n",
    "            profile = line_bot_api_8.get_profile(event.source.user_id)\n",
    "            my_status_message = profile.status_message\n",
    "            if not my_status_message:\n",
    "                my_status_message = '-'\n",
    "            line_bot_api_8.reply_message(\n",
    "                event.reply_token, [\n",
    "                    TextSendMessage(\n",
    "                        text='Display name: ' + profile.display_name\n",
    "                    ),\n",
    "                    TextSendMessage(\n",
    "                        text='picture url: ' + profile.picture_url\n",
    "                    ),\n",
    "                    TextSendMessage(\n",
    "                        text='status_message: ' + my_status_message\n",
    "                    ),\n",
    "                ]\n",
    "            )\n",
    "\n",
    "        elif(text.startswith('#')):\n",
    "            text = text[1:]\n",
    "            content = ''\n",
    "\n",
    "            stock_rt = twstock.realtime.get(text)\n",
    "            my_datetime = datetime.fromtimestamp(stock_rt['timestamp']+8*60*60)\n",
    "            my_time = my_datetime.strftime('%H:%M:%S')\n",
    "\n",
    "            content += '%s (%s) %s\\n' %(\n",
    "                stock_rt['info']['name'],\n",
    "                stock_rt['info']['code'],\n",
    "                my_time)\n",
    "            content += '現價: %s / 開盤: %s\\n'%(\n",
    "                stock_rt['realtime']['latest_trade_price'],\n",
    "                stock_rt['realtime']['open'])\n",
    "            content += '最高: %s / 最低: %s\\n' %(\n",
    "                stock_rt['realtime']['high'],\n",
    "                stock_rt['realtime']['low'])\n",
    "            content += '量: %s\\n' %(stock_rt['realtime']['accumulate_trade_volume'])\n",
    "\n",
    "            stock = twstock.Stock(text)#twstock.Stock('2330')\n",
    "            content += '-----\\n'\n",
    "            content += '最近五日價格: \\n'\n",
    "            price5 = stock.price[-5:][::-1]\n",
    "            date5 = stock.date[-5:][::-1]\n",
    "            for i in range(len(price5)):\n",
    "                #content += '[%s] %s\\n' %(date5[i].strftime(\"%Y-%m-%d %H:%M:%S\"), price5[i])\n",
    "                content += '[%s] %s\\n' %(date5[i].strftime(\"%Y-%m-%d\"), price5[i])\n",
    "            line_bot_api_8.reply_message(\n",
    "                event.reply_token,\n",
    "                TextSendMessage(text=content)\n",
    "            )\n",
    "\n",
    "        elif(text.startswith('/')):\n",
    "            text = text[1:]\n",
    "            fn = '%s.png' %(text)\n",
    "            stock = twstock.Stock(text)\n",
    "            my_data = {'close':stock.close, 'date':stock.date, 'open':stock.open}\n",
    "            df1 = pd.DataFrame.from_dict(my_data)\n",
    "\n",
    "            df1.plot(x='date', y='close')\n",
    "            plt.title('[%s]' %(stock.sid))\n",
    "            plt.savefig(fn)\n",
    "            plt.close()\n",
    "\n",
    "            # -- upload\n",
    "            # imgur with account: your.mail@gmail.com\n",
    "            client_id = 'your imgur client_id'\n",
    "            client_secret = 'your imgur client_secret'\n",
    "\n",
    "            client = ImgurClient(client_id, client_secret)\n",
    "            print(\"Uploading image... \")\n",
    "            image = client.upload_from_path(fn, anon=True)\n",
    "            print(\"Done\")\n",
    "\n",
    "            url = image['link']\n",
    "            image_message = ImageSendMessage(\n",
    "                original_content_url=url,\n",
    "                preview_image_url=url\n",
    "            )\n",
    "\n",
    "            line_bot_api_8.reply_message(\n",
    "                event.reply_token,\n",
    "                image_message\n",
    "                )\n",
    "\n",
    "\n",
    "    return 'OK'\n",
    "\n",
    "\n",
    "@app.route(\"/\", methods=['GET'])\n",
    "def basic_url():\n",
    "    return 'OK'\n",
    "\n",
    "\n",
    "if __name__ == \"__main__\":\n",
    "    app.run()"
   ]
  },
  {
   "cell_type": "code",
   "execution_count": null,
   "metadata": {},
   "outputs": [],
   "source": []
  }
 ],
 "metadata": {
  "kernelspec": {
   "display_name": "Python 3",
   "language": "python",
   "name": "python3"
  },
  "language_info": {
   "codemirror_mode": {
    "name": "ipython",
    "version": 3
   },
   "file_extension": ".py",
   "mimetype": "text/x-python",
   "name": "python",
   "nbconvert_exporter": "python",
   "pygments_lexer": "ipython3",
   "version": "3.7.6"
  }
 },
 "nbformat": 4,
 "nbformat_minor": 4
}
